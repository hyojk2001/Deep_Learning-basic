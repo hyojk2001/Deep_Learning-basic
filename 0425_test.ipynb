{
  "nbformat": 4,
  "nbformat_minor": 0,
  "metadata": {
    "colab": {
      "name": "0425_test.ipynb",
      "provenance": [],
      "collapsed_sections": [],
      "authorship_tag": "ABX9TyOFEQnSvKxn/kpD6vfFveu3",
      "include_colab_link": true
    },
    "kernelspec": {
      "name": "python3",
      "display_name": "Python 3"
    },
    "language_info": {
      "name": "python"
    }
  },
  "cells": [
    {
      "cell_type": "markdown",
      "metadata": {
        "id": "view-in-github",
        "colab_type": "text"
      },
      "source": [
        "<a href=\"https://colab.research.google.com/github/hyojk2001/Deep_Learning-basic/blob/main/0425_test.ipynb\" target=\"_parent\"><img src=\"https://colab.research.google.com/assets/colab-badge.svg\" alt=\"Open In Colab\"/></a>"
      ]
    },
    {
      "cell_type": "code",
      "metadata": {
        "colab": {
          "base_uri": "https://localhost:8080/",
          "height": 283
        },
        "id": "pwWLPyunvI_c",
        "outputId": "5e8c1450-b925-4c63-be68-a4ed93fbadc6"
      },
      "source": [
        "import numpy as np\n",
        "import matplotlib.pyplot as plt\n",
        "\n",
        "x = np.arange(-2, 2, 0.001)\n",
        "y = np.exp(-x)\n",
        "y1 = 1 / (1+y)\n",
        "\n",
        "plt.plot(x,y1)\n",
        "\n",
        "plt.plot(x,y, label='exp(-x)') \n",
        "plt.plot(x,y1, linestyle='--', label='1 / (1 + exp(-x))') \n",
        "plt.xlabel('x')  \n",
        "plt.ylabel('y')   \n",
        "plt.legend()  \n",
        "plt.xlim(-6,6)\n",
        "plt.ylim(0,1)   \n",
        "plt.show()"
      ],
      "execution_count": 18,
      "outputs": [
        {
          "output_type": "display_data",
          "data": {
            "image/png": "[encoded data removed]",
            "text/plain": [
              "<Figure size 432x288 with 1 Axes>"
            ]
          },
          "metadata": {
            "tags": [],
            "needs_background": "light"
          }
        }
      ]
    },
    {
      "cell_type": "code",
      "metadata": {
        "colab": {
          "base_uri": "https://localhost:8080/"
        },
        "id": "L8CmxKNRvlSq",
        "outputId": "8a3d71ef-29ca-4fda-90a7-01764af04696"
      },
      "source": [
        "def step(x):\n",
        "  if x > 0:\n",
        "    return 1\n",
        "  else:\n",
        "    return 0\n",
        "\n",
        "def step_numpy(x):\n",
        "  y = x > 0\n",
        "  return y.astype(np.int)\n",
        "\n",
        "a = np.array([3,-1])\n",
        "# step_numpy(a)\n",
        "b = a > 0\n",
        "b = b.astype(np.int)    # astype는 해당 부울 여부를 true(1), false(0)으로 표기\n",
        "b"
      ],
      "execution_count": 24,
      "outputs": [
        {
          "output_type": "execute_result",
          "data": {
            "text/plain": [
              "array([1, 0])"
            ]
          },
          "metadata": {
            "tags": []
          },
          "execution_count": 24
        }
      ]
    },
    {
      "cell_type": "code",
      "metadata": {
        "colab": {
          "base_uri": "https://localhost:8080/",
          "height": 265
        },
        "id": "TFNmd53OxMkN",
        "outputId": "93935535-46ff-4fd7-9b1f-d18e976406b5"
      },
      "source": [
        "def step_function(x):\n",
        "  return np.array(x>0, dtype=np.int)\n",
        "x = np.arange(-5,5,0.1)\n",
        "y = step_function(x)\n",
        "plt.plot(x,y)\n",
        "plt.ylim(-0.1,1.1)\n",
        "plt.show()"
      ],
      "execution_count": 26,
      "outputs": [
        {
          "output_type": "display_data",
          "data": {
            "image/png": "[encoded data removed]",
            "text/plain": [
              "<Figure size 432x288 with 1 Axes>"
            ]
          },
          "metadata": {
            "tags": [],
            "needs_background": "light"
          }
        }
      ]
    },
    {
      "cell_type": "code",
      "metadata": {
        "id": "xVATXqKByIQ4"
      },
      "source": [
        ""
      ],
      "execution_count": null,
      "outputs": []
    }
  ]
}